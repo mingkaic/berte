{
 "cells": [
  {
   "cell_type": "code",
   "execution_count": 1,
   "id": "51edcb01",
   "metadata": {},
   "outputs": [
    {
     "name": "stderr",
     "output_type": "stream",
     "text": [
      "2023-05-29 19:52:51.306726: W tensorflow/stream_executor/platform/default/dso_loader.cc:64] Could not load dynamic library 'libcudart.so.11.0'; dlerror: libcudart.so.11.0: cannot open shared object file: No such file or directory\n",
      "2023-05-29 19:52:51.306754: I tensorflow/stream_executor/cuda/cudart_stub.cc:29] Ignore above cudart dlerror if you do not have a GPU set up on your machine.\n",
      "/home/mingkaichen/.local/lib/python3.10/site-packages/tqdm/auto.py:22: TqdmWarning: IProgress not found. Please update jupyter and ipywidgets. See https://ipywidgets.readthedocs.io/en/stable/user_install.html\n",
      "  from .autonotebook import tqdm as notebook_tqdm\n"
     ]
    }
   ],
   "source": [
    "import tensorflow_datasets as tfds\n",
    "import tensorflow as tf"
   ]
  },
  {
   "cell_type": "code",
   "execution_count": 2,
   "id": "9362b34c",
   "metadata": {},
   "outputs": [],
   "source": [
    "PERSENTENCE_DATASET = 'export/persentence_dataset'"
   ]
  },
  {
   "cell_type": "code",
   "execution_count": 3,
   "id": "95d3f627",
   "metadata": {},
   "outputs": [
    {
     "name": "stderr",
     "output_type": "stream",
     "text": [
      "2023-05-29 19:52:53.155650: W tensorflow/stream_executor/platform/default/dso_loader.cc:64] Could not load dynamic library 'libcuda.so.1'; dlerror: libcuda.so.1: cannot open shared object file: No such file or directory\n",
      "2023-05-29 19:52:53.155681: W tensorflow/stream_executor/cuda/cuda_driver.cc:269] failed call to cuInit: UNKNOWN ERROR (303)\n",
      "2023-05-29 19:52:53.155710: I tensorflow/stream_executor/cuda/cuda_diagnostics.cc:156] kernel driver does not appear to be running on this host (mingkaichen-Macmini): /proc/driver/nvidia/version does not exist\n"
     ]
    }
   ],
   "source": [
    "translate_examples, _ = tfds.load('ted_hrlr_translate/pt_to_en', with_info=True, as_supervised=True)\n",
    "train_translate_examples = translate_examples['train']"
   ]
  },
  {
   "cell_type": "code",
   "execution_count": 4,
   "id": "6371ae5b",
   "metadata": {},
   "outputs": [],
   "source": [
    "paraphrase_examples, _ = tfds.load('paws_wiki/labeled_final_tokenized', with_info=True)\n",
    "train_paraphrase_examples = paraphrase_examples['train']"
   ]
  },
  {
   "cell_type": "code",
   "execution_count": 5,
   "id": "49496c9a",
   "metadata": {},
   "outputs": [],
   "source": [
    "wiki_examples = tf.data.experimental.load('export/raw_wiki_dataset')"
   ]
  },
  {
   "cell_type": "code",
   "execution_count": 6,
   "id": "82092570",
   "metadata": {},
   "outputs": [],
   "source": [
    "pt_train = train_translate_examples.map(lambda pt, en: pt)\n",
    "en_train = train_translate_examples.map(lambda pt, en: en)\n",
    "s1_train = train_paraphrase_examples.map(lambda row: row['sentence1'])\n",
    "s2_train = train_paraphrase_examples.map(lambda row: row['sentence2'])\n",
    "wiki_train = wiki_examples.unbatch()"
   ]
  },
  {
   "cell_type": "code",
   "execution_count": 7,
   "id": "222a0947",
   "metadata": {},
   "outputs": [],
   "source": [
    "all_batches = (pt_train.concatenate(en_train)\n",
    "                       .concatenate(s1_train)\n",
    "                       .concatenate(s2_train)\n",
    "                       .concatenate(wiki_train)\n",
    "                       .cache())\n",
    "tf.data.experimental.save(all_batches, PERSENTENCE_DATASET)"
   ]
  }
 ],
 "metadata": {
  "kernelspec": {
   "display_name": "Python 3 (ipykernel)",
   "language": "python",
   "name": "python3"
  },
  "language_info": {
   "codemirror_mode": {
    "name": "ipython",
    "version": 3
   },
   "file_extension": ".py",
   "mimetype": "text/x-python",
   "name": "python",
   "nbconvert_exporter": "python",
   "pygments_lexer": "ipython3",
   "version": "3.10.6"
  }
 },
 "nbformat": 4,
 "nbformat_minor": 5
}
